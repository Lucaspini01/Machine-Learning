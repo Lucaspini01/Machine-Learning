{
 "cells": [
  {
   "cell_type": "markdown",
   "id": "31af0d90",
   "metadata": {},
   "source": [
    "TRABAJO PRACTICO 3 - REDES NEURONALES - LUCAS PINI"
   ]
  },
  {
   "cell_type": "code",
   "execution_count": 1,
   "id": "819e309f",
   "metadata": {},
   "outputs": [],
   "source": [
    "import numpy as np\n",
    "import matplotlib.pyplot as plt\n",
    "import src.preprocessing as pre\n",
    "import src.models as models"
   ]
  },
  {
   "cell_type": "markdown",
   "id": "c3bbde9d",
   "metadata": {},
   "source": [
    "1. ANÁLISIS Y PREPROCESAMIENTO DE DATOS"
   ]
  },
  {
   "cell_type": "markdown",
   "id": "8e9d4703",
   "metadata": {},
   "source": [
    "1.1 Cargo los datasets y observo si coinciden los tamaños con los de la consigna"
   ]
  },
  {
   "cell_type": "code",
   "execution_count": 2,
   "id": "b7625e79",
   "metadata": {},
   "outputs": [
    {
     "name": "stdout",
     "output_type": "stream",
     "text": [
      "Forma de X_images: (809555, 28, 28)\n",
      "Forma de y_images: (809555,)\n",
      "Número de clases: 47\n"
     ]
    }
   ],
   "source": [
    "X_images = np . load (\"data\\X_images.npy\")\n",
    "y_images = np . load (\"data\\y_images.npy\")\n",
    "\n",
    "print(f\"Forma de X_images: {X_images.shape}\")\n",
    "print(f\"Forma de y_images: {y_images.shape}\")\n",
    "print(f\"Número de clases: {len(np.unique(y_images))}\")"
   ]
  },
  {
   "cell_type": "markdown",
   "id": "8ca388d8",
   "metadata": {},
   "source": [
    "1.2 Visualizacion de imagenes"
   ]
  },
  {
   "cell_type": "code",
   "execution_count": 3,
   "id": "1d9c114d",
   "metadata": {},
   "outputs": [
    {
     "data": {
      "image/png": "[encoded data removed]",
      "text/plain": [
       "<Figure size 800x300 with 3 Axes>"
      ]
     },
     "metadata": {},
     "output_type": "display_data"
    }
   ],
   "source": [
    "\n",
    "fig, axes = plt.subplots(1, 3, figsize=(8, 3))\n",
    "for i, ax in enumerate(axes):\n",
    "    img = X_images[i].reshape(28, 28)\n",
    "    ax.imshow(img, cmap=\"gray\")\n",
    "    ax.set_title(f\"Etiqueta: {y_images[i]}\")\n",
    "    ax.axis(\"off\")\n",
    "plt.show()\n"
   ]
  },
  {
   "cell_type": "markdown",
   "id": "21594155",
   "metadata": {},
   "source": [
    "1.3 Divido el dataset en Train, Validation y Test"
   ]
  },
  {
   "cell_type": "code",
   "execution_count": 4,
   "id": "0e1bad42",
   "metadata": {},
   "outputs": [
    {
     "name": "stdout",
     "output_type": "stream",
     "text": [
      "Tamaño de Train: 647644\n",
      "Tamaño de Validation: 80955\n",
      "Tamaño de Test: 80956\n"
     ]
    }
   ],
   "source": [
    "X_train, y_train, X_val, y_val, X_test, y_test = pre.split_dataset(X_images, y_images)\n",
    "\n",
    "print(f\"Tamaño de Train: {X_train.shape[0]}\")\n",
    "print(f\"Tamaño de Validation: {X_val.shape[0]}\")\n",
    "print(f\"Tamaño de Test: {X_test.shape[0]}\")"
   ]
  },
  {
   "cell_type": "markdown",
   "id": "406c9d56",
   "metadata": {},
   "source": [
    "1.4 Normalización de los datos dividiendo por 255"
   ]
  },
  {
   "cell_type": "code",
   "execution_count": 5,
   "id": "8d674cc5",
   "metadata": {},
   "outputs": [
    {
     "name": "stdout",
     "output_type": "stream",
     "text": [
      "Rango de X_train: 0.000 - 1.000\n"
     ]
    }
   ],
   "source": [
    "X_train = X_train / 255.0\n",
    "X_val = X_val / 255.0\n",
    "X_test = X_test / 255.0\n",
    "\n",
    "print(f\"Rango de X_train: {X_train.min():.3f} - {X_train.max():.3f}\")\n"
   ]
  },
  {
   "cell_type": "markdown",
   "id": "1601cdc8",
   "metadata": {},
   "source": [
    "1.5 Entrenamiento de una Red Neuronal con:\n",
    "\n",
    "- 2 capas ocultas\n",
    "\n",
    "- 128 y 64 neuronas\n",
    "\n",
    "- ReLU en ocultas y Softmax en salida\n",
    "\n",
    "- Función de costo: Cross-Entropy\n",
    "\n",
    "- Entrenamiento con gradiente descendente\n",
    "\n",
    "- Inicialización de parametros con He inicialization como recomienda el Bishop y biases en 0"
   ]
  },
  {
   "cell_type": "code",
   "execution_count": 6,
   "id": "3e5ffa73",
   "metadata": {},
   "outputs": [
    {
     "name": "stdout",
     "output_type": "stream",
     "text": [
      "Época 1/100 | Loss Train: 4.0217 | Loss Val: 4.0237\n"
     ]
    },
    {
     "ename": "KeyboardInterrupt",
     "evalue": "",
     "output_type": "error",
     "traceback": [
      "\u001b[1;31m---------------------------------------------------------------------------\u001b[0m",
      "\u001b[1;31mKeyboardInterrupt\u001b[0m                         Traceback (most recent call last)",
      "Cell \u001b[1;32mIn[6], line 14\u001b[0m\n\u001b[0;32m     11\u001b[0m \u001b[38;5;66;03m# === Definición del modelo M0 ===\u001b[39;00m\n\u001b[0;32m     12\u001b[0m dims \u001b[38;5;241m=\u001b[39m [\u001b[38;5;241m784\u001b[39m, \u001b[38;5;241m128\u001b[39m, \u001b[38;5;241m64\u001b[39m, num_classes]  \u001b[38;5;66;03m# 2 capas ocultas\u001b[39;00m\n\u001b[1;32m---> 14\u001b[0m parametros_M0, losses_train, losses_val \u001b[38;5;241m=\u001b[39m \u001b[43mmodels\u001b[49m\u001b[38;5;241;43m.\u001b[39;49m\u001b[43mentrenar_red_con_validacion\u001b[49m\u001b[43m(\u001b[49m\n\u001b[0;32m     15\u001b[0m \u001b[43m    \u001b[49m\u001b[43mX_train_flat\u001b[49m\u001b[43m,\u001b[49m\u001b[43m \u001b[49m\u001b[43mY_train_oh\u001b[49m\u001b[43m,\u001b[49m\u001b[43m \u001b[49m\u001b[43mX_val_flat\u001b[49m\u001b[43m,\u001b[49m\u001b[43m \u001b[49m\u001b[43mY_val_oh\u001b[49m\u001b[43m,\u001b[49m\n\u001b[0;32m     16\u001b[0m \u001b[43m    \u001b[49m\u001b[43mdims\u001b[49m\u001b[43m,\u001b[49m\u001b[43m \u001b[49m\u001b[43mepochs\u001b[49m\u001b[38;5;241;43m=\u001b[39;49m\u001b[38;5;241;43m100\u001b[39;49m\u001b[43m,\u001b[49m\u001b[43m \u001b[49m\u001b[43mlr\u001b[49m\u001b[38;5;241;43m=\u001b[39;49m\u001b[38;5;241;43m0.01\u001b[39;49m\n\u001b[0;32m     17\u001b[0m \u001b[43m)\u001b[49m\n",
      "File \u001b[1;32mc:\\Users\\Lucas\\OneDrive\\Escritorio\\UdeSA\\2025\\Segundo Cuatrimestre\\Aprendizaje Automatico y Profundo\\Machine-Learning\\Machine-Learning\\Tp3-Redes-Neuronales\\src\\models.py:127\u001b[0m, in \u001b[0;36mentrenar_red_con_validacion\u001b[1;34m(X_train, Y_train, X_val, Y_val, dims, epochs, lr)\u001b[0m\n\u001b[0;32m    124\u001b[0m loss_val \u001b[38;5;241m=\u001b[39m cross_entropy_loss(Y_val, Y_hat_val)\n\u001b[0;32m    126\u001b[0m \u001b[38;5;66;03m# === Backward ===\u001b[39;00m\n\u001b[1;32m--> 127\u001b[0m grads \u001b[38;5;241m=\u001b[39m \u001b[43mbackward_propagation\u001b[49m\u001b[43m(\u001b[49m\u001b[43mX_train\u001b[49m\u001b[43m,\u001b[49m\u001b[43m \u001b[49m\u001b[43mY_train\u001b[49m\u001b[43m,\u001b[49m\u001b[43m \u001b[49m\u001b[43mparametros\u001b[49m\u001b[43m,\u001b[49m\u001b[43m \u001b[49m\u001b[43mcaches_train\u001b[49m\u001b[43m)\u001b[49m\n\u001b[0;32m    129\u001b[0m \u001b[38;5;66;03m# === Update ===\u001b[39;00m\n\u001b[0;32m    130\u001b[0m parametros \u001b[38;5;241m=\u001b[39m actualizar_parametros(parametros, grads, lr)\n",
      "File \u001b[1;32mc:\\Users\\Lucas\\OneDrive\\Escritorio\\UdeSA\\2025\\Segundo Cuatrimestre\\Aprendizaje Automatico y Profundo\\Machine-Learning\\Machine-Learning\\Tp3-Redes-Neuronales\\src\\models.py:76\u001b[0m, in \u001b[0;36mbackward_propagation\u001b[1;34m(X, Y, parametros, caches)\u001b[0m\n\u001b[0;32m     74\u001b[0m dZ \u001b[38;5;241m=\u001b[39m dA_prev \u001b[38;5;241m*\u001b[39m relu_derivative(Z)\n\u001b[0;32m     75\u001b[0m A_prev \u001b[38;5;241m=\u001b[39m X \u001b[38;5;28;01mif\u001b[39;00m l \u001b[38;5;241m==\u001b[39m \u001b[38;5;241m1\u001b[39m \u001b[38;5;28;01melse\u001b[39;00m caches[\u001b[38;5;124mf\u001b[39m\u001b[38;5;124m\"\u001b[39m\u001b[38;5;124mA\u001b[39m\u001b[38;5;132;01m{\u001b[39;00ml\u001b[38;5;241m-\u001b[39m\u001b[38;5;241m1\u001b[39m\u001b[38;5;132;01m}\u001b[39;00m\u001b[38;5;124m\"\u001b[39m]\n\u001b[1;32m---> 76\u001b[0m grads[\u001b[38;5;124mf\u001b[39m\u001b[38;5;124m\"\u001b[39m\u001b[38;5;124mdW\u001b[39m\u001b[38;5;132;01m{\u001b[39;00ml\u001b[38;5;132;01m}\u001b[39;00m\u001b[38;5;124m\"\u001b[39m] \u001b[38;5;241m=\u001b[39m (\u001b[38;5;241m1\u001b[39m\u001b[38;5;241m/\u001b[39mm) \u001b[38;5;241m*\u001b[39m dZ \u001b[38;5;241m@\u001b[39m A_prev\u001b[38;5;241m.\u001b[39mT\n\u001b[0;32m     77\u001b[0m grads[\u001b[38;5;124mf\u001b[39m\u001b[38;5;124m\"\u001b[39m\u001b[38;5;124mdb\u001b[39m\u001b[38;5;132;01m{\u001b[39;00ml\u001b[38;5;132;01m}\u001b[39;00m\u001b[38;5;124m\"\u001b[39m] \u001b[38;5;241m=\u001b[39m (\u001b[38;5;241m1\u001b[39m\u001b[38;5;241m/\u001b[39mm) \u001b[38;5;241m*\u001b[39m np\u001b[38;5;241m.\u001b[39msum(dZ, axis\u001b[38;5;241m=\u001b[39m\u001b[38;5;241m1\u001b[39m, keepdims\u001b[38;5;241m=\u001b[39m\u001b[38;5;28;01mTrue\u001b[39;00m)\n\u001b[0;32m     78\u001b[0m \u001b[38;5;28;01mif\u001b[39;00m l \u001b[38;5;241m>\u001b[39m \u001b[38;5;241m1\u001b[39m:\n",
      "\u001b[1;31mKeyboardInterrupt\u001b[0m: "
     ]
    }
   ],
   "source": [
    "# Supongamos que ya tenés X_train, y_train, X_val, y_val normalizados y cargados\n",
    "# (cada imagen en un vector de 784 = 28x28)\n",
    "\n",
    "num_classes = len(np.unique(y_train))\n",
    "X_train_flat = X_train.reshape(X_train.shape[0], -1).T\n",
    "X_val_flat   = X_val.reshape(X_val.shape[0], -1).T\n",
    "\n",
    "Y_train_oh = pre.one_hot(y_train, num_classes)\n",
    "Y_val_oh   = pre.one_hot(y_val, num_classes)\n",
    "\n",
    "# === Definición del modelo M0 ===\n",
    "dims = [784, 128, 64, num_classes]  # 2 capas ocultas\n",
    "\n",
    "parametros_M0, losses_train, losses_val = models.entrenar_red_con_validacion(\n",
    "    X_train_flat, Y_train_oh, X_val_flat, Y_val_oh,\n",
    "    dims, epochs=10, lr=0.01\n",
    ")\n"
   ]
  },
  {
   "cell_type": "code",
   "execution_count": null,
   "id": "6dcf5f16",
   "metadata": {},
   "outputs": [],
   "source": [
    "plt.figure(figsize=(8, 5))\n",
    "plt.plot(losses_train, label=\"Entrenamiento\", linewidth=2)\n",
    "plt.plot(losses_val, label=\"Validación\", linewidth=2)\n",
    "plt.xlabel(\"Época\")\n",
    "plt.ylabel(\"Función de costo (Cross-Entropy)\")\n",
    "plt.title(\"Evolución del costo - Modelo M₀ (128-64-Softmax)\")\n",
    "plt.legend()\n",
    "plt.grid(True)\n",
    "plt.show()\n"
   ]
  }
 ],
 "metadata": {
  "kernelspec": {
   "display_name": "Python 3",
   "language": "python",
   "name": "python3"
  },
  "language_info": {
   "codemirror_mode": {
    "name": "ipython",
    "version": 3
   },
   "file_extension": ".py",
   "mimetype": "text/x-python",
   "name": "python",
   "nbconvert_exporter": "python",
   "pygments_lexer": "ipython3",
   "version": "3.11.2"
  }
 },
 "nbformat": 4,
 "nbformat_minor": 5
}
